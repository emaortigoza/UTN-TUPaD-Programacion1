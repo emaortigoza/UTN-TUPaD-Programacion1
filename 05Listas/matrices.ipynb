{
  "cells": [
    {
      "cell_type": "markdown",
      "id": "a14f9693",
      "metadata": {
        "id": "a14f9693"
      },
      "source": [
        "# **Matrices en Python usando listas**\n",
        "\n",
        "En Python, una matriz puede representarse usando listas de listas, es decir, una lista donde cada elemento es otra lista.\n",
        "En esta representación:\n",
        "\n",
        "* Cada fila estará representada por una sublista. Por ejemplo: la fila 1 será la sublista 1.\n",
        "* Cada columna estará representada por los elementos ubicados en la misma posición de todas las sublistas. Por ejemplo: la columna 1 será el conjunto de elementos ubicados en la posición 1 de cada sublista."
      ]
    },
    {
      "cell_type": "markdown",
      "source": [
        "## **Crear una matriz**\n",
        "\n",
        "Representemos la siguiente matriz en Python:\n",
        "\n",
        "![image.png](data:image/png;base64,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)"
      ],
      "metadata": {
        "id": "JZ5nf7qpZS4w"
      },
      "id": "JZ5nf7qpZS4w"
    },
    {
      "cell_type": "code",
      "execution_count": null,
      "id": "cf8cb8cc",
      "metadata": {
        "id": "cf8cb8cc"
      },
      "outputs": [],
      "source": [
        "# Ejemplo de creación de una matriz 2x2:\n",
        "matriz = [[4, 7],[8, 12]]"
      ]
    },
    {
      "cell_type": "code",
      "source": [
        "# Podemos verlo con más claridad de este modo:\n",
        "matriz = [\n",
        "  [4, 7],\n",
        "  [8, 12]\n",
        "]\n",
        "\n",
        "print(matriz)"
      ],
      "metadata": {
        "colab": {
          "base_uri": "https://localhost:8080/"
        },
        "id": "4ZauzPkOYq4y",
        "outputId": "862d841a-5b7f-4980-ad0b-b7e49d1da97b"
      },
      "id": "4ZauzPkOYq4y",
      "execution_count": null,
      "outputs": [
        {
          "output_type": "stream",
          "name": "stdout",
          "text": [
            "[[4, 7], [8, 12]]\n"
          ]
        }
      ]
    },
    {
      "cell_type": "code",
      "source": [
        "# Podemos crear también matrices que no sean cuadradas\n",
        "matriz_rectangular = [\n",
        "  [4, 7, 10],\n",
        "  [8, 12, 42]\n",
        "]\n",
        "\n",
        "print(matriz_rectangular)"
      ],
      "metadata": {
        "colab": {
          "base_uri": "https://localhost:8080/"
        },
        "id": "CdKgq_FbcyyC",
        "outputId": "7f08ce24-3373-4bbd-8860-7a441a87b6e0"
      },
      "id": "CdKgq_FbcyyC",
      "execution_count": null,
      "outputs": [
        {
          "output_type": "stream",
          "name": "stdout",
          "text": [
            "[[4, 7, 10], [8, 12, 42]]\n"
          ]
        }
      ]
    },
    {
      "cell_type": "markdown",
      "id": "d7685f28",
      "metadata": {
        "id": "d7685f28"
      },
      "source": [
        "Es importante notar que las matrices como siguen siendo listas, no estan atadas a ningun tipo de dato. Por ejemplo, podemos crear matrices de letras (\"string\") o matrices de booleanos."
      ]
    },
    {
      "cell_type": "code",
      "execution_count": null,
      "id": "262fc4d9",
      "metadata": {
        "id": "262fc4d9"
      },
      "outputs": [],
      "source": [
        "# Ejemplo de matriz de letras:\n",
        "matriz_letras =[\n",
        "    ['a', 'b'],\n",
        "    ['c', 'd']\n",
        "]\n",
        "\n",
        "# Ejemplo de matriz de booleanos:\n",
        "matriz_booleanos = [\n",
        "    [True, False],\n",
        "    [False, True]\n",
        "]"
      ]
    },
    {
      "cell_type": "markdown",
      "id": "bb3b51d1",
      "metadata": {
        "id": "bb3b51d1"
      },
      "source": [
        "## **Acceder a elementos de una matriz**\n",
        "Para acceder a los elementos de una matriz debemos seguir las mismas reglas que utilizamos para acceder a elementos de una lista.\n",
        "\n",
        "Por ejemplo, para acceder a la primera fila de la matriz, debemos llamar a la sublista 0 (recordando que Python enumera desde el 0):"
      ]
    },
    {
      "cell_type": "code",
      "source": [
        "# Podemos verlo con más claridad de este modo:\n",
        "matriz = [\n",
        "  [4, 7],\n",
        "  [8, 12]\n",
        "]\n",
        "\n",
        "print(matriz)"
      ],
      "metadata": {
        "colab": {
          "base_uri": "https://localhost:8080/"
        },
        "id": "cyFDYn2QkRnl",
        "outputId": "f452a2d8-cd97-4668-8c5b-f6d98a030908"
      },
      "id": "cyFDYn2QkRnl",
      "execution_count": null,
      "outputs": [
        {
          "output_type": "stream",
          "name": "stdout",
          "text": [
            "[[4, 7], [8, 12]]\n"
          ]
        }
      ]
    },
    {
      "cell_type": "code",
      "source": [
        "# Accedemos a la primera fila de la matriz\n",
        "fila_1 = matriz[0]\n",
        "\n",
        "print(fila_1)"
      ],
      "metadata": {
        "colab": {
          "base_uri": "https://localhost:8080/"
        },
        "id": "z196r_YOZ1fT",
        "outputId": "486889ca-43dc-42be-ad4a-39256d341e45"
      },
      "id": "z196r_YOZ1fT",
      "execution_count": null,
      "outputs": [
        {
          "output_type": "stream",
          "name": "stdout",
          "text": [
            "[4, 7]\n"
          ]
        }
      ]
    },
    {
      "cell_type": "markdown",
      "source": [
        "Ahora bien, si necesitamos acceder a un elemento específico debemos hacer una **doble indexación** ya que primero debemos acceder a la fila y luego a la columna.\n",
        "\n",
        "Por ejemplo, para acceder a la primera fila y la segunda columna, debemos llamar a la sublista 0 (recordando que Python enumera desde el 0) y dentro de esa sublista llamar a su elemento 1."
      ],
      "metadata": {
        "id": "Hf2yBKe4aKUI"
      },
      "id": "Hf2yBKe4aKUI"
    },
    {
      "cell_type": "code",
      "execution_count": null,
      "id": "d0b0dfaf",
      "metadata": {
        "colab": {
          "base_uri": "https://localhost:8080/"
        },
        "id": "d0b0dfaf",
        "outputId": "27dab08e-9c1f-4941-f4f6-e9679098d31b"
      },
      "outputs": [
        {
          "output_type": "stream",
          "name": "stdout",
          "text": [
            "7\n"
          ]
        }
      ],
      "source": [
        "# Accedemos al elemento de la fila 1 y columna 2\n",
        "elemento_1_2 = matriz[0][1]\n",
        "\n",
        "print(elemento_1_2)"
      ]
    },
    {
      "cell_type": "markdown",
      "id": "16cd143c",
      "metadata": {
        "id": "16cd143c"
      },
      "source": [
        "## **Modificar los elementos de una matriz**\n",
        "\n",
        "La indexación no solo nos sirve para acceder a elementos de una matriz, sino también para modificarlos.\n",
        "\n",
        "Por ejemplo, para modificar el elemento de la primera fila y la segunda columna debemos hacer lo siguiente"
      ]
    },
    {
      "cell_type": "code",
      "execution_count": null,
      "id": "57da270d",
      "metadata": {
        "colab": {
          "base_uri": "https://localhost:8080/"
        },
        "id": "57da270d",
        "outputId": "2c2b1978-2ad4-4fa0-af3f-871590827f13"
      },
      "outputs": [
        {
          "output_type": "stream",
          "name": "stdout",
          "text": [
            "[[4, 999], [8, 12]]\n"
          ]
        }
      ],
      "source": [
        "# Modificamos el elemento de la primera fila y la segunda columna, colocando 999 en su lugar\n",
        "matriz[0][1] = 999\n",
        "\n",
        "# Imprimimos la matriz resultante\n",
        "print(matriz)"
      ]
    },
    {
      "cell_type": "markdown",
      "id": "55cdc622",
      "metadata": {
        "id": "55cdc622"
      },
      "source": [
        "## **Imprimir una matriz por pantalla**\n",
        "Para ver la matriz completa podemos usar un bucle **for** que la recorra índice por índice:"
      ]
    },
    {
      "cell_type": "code",
      "execution_count": null,
      "id": "6b40a93b",
      "metadata": {
        "colab": {
          "base_uri": "https://localhost:8080/"
        },
        "id": "6b40a93b",
        "outputId": "de8f0d76-8c8f-4fdf-d50c-7d4faabb4e3a"
      },
      "outputs": [
        {
          "output_type": "stream",
          "name": "stdout",
          "text": [
            "[4, 999]\n",
            "[8, 12]\n"
          ]
        }
      ],
      "source": [
        "# La cantidad de filas es la cantidad de sublistas dentro de la lista externa\n",
        "cantidad_filas = len(matriz)\n",
        "\n",
        "# La cantidad de columnas es la cantidad de elementos en cualquiera de las sublistas.\n",
        "# Tomamos la primera sublista para determinarlo, pero podríamos tomar cualquier otra.\n",
        "cantidad_columnas = len(matriz[0])\n",
        "\n",
        "for i in range(cantidad_filas):\n",
        "    print(matriz[i])"
      ]
    },
    {
      "cell_type": "code",
      "source": [
        "# Una manera más compacta de verlo:\n",
        "for i in range(len(matriz)):\n",
        "    print(matriz[i])"
      ],
      "metadata": {
        "colab": {
          "base_uri": "https://localhost:8080/"
        },
        "id": "niz2pNZCbaQo",
        "outputId": "77567710-ea61-4954-ec8e-2a8d3e4eec6e"
      },
      "id": "niz2pNZCbaQo",
      "execution_count": null,
      "outputs": [
        {
          "output_type": "stream",
          "name": "stdout",
          "text": [
            "[4, 999]\n",
            "[8, 12]\n"
          ]
        }
      ]
    },
    {
      "cell_type": "markdown",
      "id": "832a358d",
      "metadata": {
        "id": "832a358d"
      },
      "source": [
        "Como podemos observar en este caso el loop esta enseñando dos listas cuando le pedimos que muestre por pantalla los elementos.\n",
        "Para poder ver cada elemento por separado en necesario usar un loop doble."
      ]
    },
    {
      "cell_type": "code",
      "execution_count": null,
      "id": "af1df3f2",
      "metadata": {
        "colab": {
          "base_uri": "https://localhost:8080/"
        },
        "id": "af1df3f2",
        "outputId": "7cc860a8-ec36-49b2-a1d2-f188c9b3458b"
      },
      "outputs": [
        {
          "output_type": "stream",
          "name": "stdout",
          "text": [
            "4 999 \n",
            "8 12 \n"
          ]
        }
      ],
      "source": [
        "# La cantidad de filas es la cantidad de sublistas dentro de la lista externa\n",
        "cantidad_filas = len(matriz)\n",
        "\n",
        "# La cantidad de columnas es la cantidad de elementos en cualquiera de las sublistas.\n",
        "# Tomamos la primera sublista para determinarlo, pero podríamos tomar cualquier otra.\n",
        "cantidad_columnas = len(matriz[0])\n",
        "\n",
        "for fila in range(cantidad_filas):\n",
        "    for columna in range(cantidad_columnas):\n",
        "        print(matriz[fila][columna], end=' ')\n",
        "    print()  # Para un salto de línea al final para mejorar visualización"
      ]
    }
  ],
  "metadata": {
    "kernelspec": {
      "display_name": "Python 3",
      "language": "python",
      "name": "python3"
    },
    "language_info": {
      "codemirror_mode": {
        "name": "ipython",
        "version": 3
      },
      "file_extension": ".py",
      "mimetype": "text/x-python",
      "name": "python",
      "nbconvert_exporter": "python",
      "pygments_lexer": "ipython3",
      "version": "3.11.13"
    },
    "colab": {
      "provenance": []
    }
  },
  "nbformat": 4,
  "nbformat_minor": 5
}