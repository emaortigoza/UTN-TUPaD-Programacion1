{
  "nbformat": 4,
  "nbformat_minor": 0,
  "metadata": {
    "colab": {
      "provenance": []
    },
    "kernelspec": {
      "name": "python3",
      "display_name": "Python 3"
    },
    "language_info": {
      "name": "python"
    }
  },
  "cells": [
    {
      "cell_type": "markdown",
      "source": [
        "# Ejercicio 1\n",
        "## Creación y manipulación de listas\n",
        "Crea una lista de tus cinco frutas favoritas.\n",
        "\n",
        "Luego utiliza append() para añadir una sexta fruta y remove() para eliminar la segunda fruta de la lista.\n",
        "\n",
        "Imprime la lista resultante."
      ],
      "metadata": {
        "id": "ys2XgBlhB_3_"
      }
    },
    {
      "cell_type": "code",
      "execution_count": null,
      "metadata": {
        "id": "kC3M-pHgBwb5"
      },
      "outputs": [],
      "source": [
        "# Creamos la lista con cinco frutas favoritas\n",
        "frutas_favoritas = [\"manzana\", \"plátano\", \"fresa\", \"mango\", \"piña\"]\n",
        "print(\"Lista original:\", frutas_favoritas)\n",
        "\n",
        "# Añadimos una sexta fruta con\n",
        "frutas_favoritas.append(\"naranja\")\n",
        "print(\"Después de append():\", frutas_favoritas)\n",
        "\n",
        "# Eliminamos la segunda fruta (plátano) con\n",
        "frutas_favoritas.remove(\"plátano\")\n",
        "print(\"Después de remove():\", frutas_favoritas)\n",
        "\n",
        "# Resultado final\n",
        "print(\"Lista resultante:\", frutas_favoritas)"
      ]
    },
    {
      "cell_type": "markdown",
      "source": [
        "# Ejercicio 2\n",
        "## Slicing avanzado\n",
        "Dada la lista numeros = [10, 20, 30, 40, 50, 60, 70, 80, 90], utiliza slicing para obtener:\n",
        "- los primeros tres elementos.\n",
        "- los últimos dos elementos.\n",
        "- los elementos en posiciones pares."
      ],
      "metadata": {
        "id": "F8jdo_iOCe-P"
      }
    },
    {
      "cell_type": "code",
      "source": [
        "# Lista original\n",
        "numeros = [10, 20, 30, 40, 50, 60, 70, 80, 90]\n",
        "print(\"Lista original:\", numeros)\n",
        "\n",
        "# Primeros tres elementos: numeros[0:3]\n",
        "primeros_tres = numeros[:3]\n",
        "print(\"Primeros tres elementos:\", primeros_tres)\n",
        "\n",
        "# Últimos dos elementos: numeros[-2:]\n",
        "ultimos_dos = numeros[-2:]\n",
        "print(\"Últimos dos elementos:\", ultimos_dos)\n",
        "\n",
        "# Elementos en posiciones pares (índices 0, 2, 4, 6,\n",
        "posiciones_pares = numeros[::2]\n",
        "print(\"Elementos en posiciones pares:\", posiciones_pares)"
      ],
      "metadata": {
        "id": "KuHfWkV7CvuS"
      },
      "execution_count": null,
      "outputs": []
    },
    {
      "cell_type": "markdown",
      "source": [
        "# Ejercicio 3\n",
        "## Conversión con split()\n",
        "Convierte la cadena \"Python,Java,C++,JavaScript,PHP\" en una lista de lenguajes de programación utilizando split().\n",
        "\n",
        "Luego añade \"Ruby\" a la lista e imprime los lenguajes por consola."
      ],
      "metadata": {
        "id": "J-uFSvSbDHWe"
      }
    },
    {
      "cell_type": "code",
      "source": [
        "# Cadena original\n",
        "lenguajes_texto = \"Python,Java,C++,JavaScript,PHP\"\n",
        "print(\"Cadena original:\", lenguajes_texto)\n",
        "\n",
        "# Convertir cadena en lista usando\n",
        "lenguajes = lenguajes_texto.split(\",\")\n",
        "print(\"Lista después de split():\", lenguajes)\n",
        "\n",
        "# Añadir \"Ruby\" a la lista\n",
        "lenguajes.append(\"Ruby\")\n",
        "print(\"Lista después de append():\", lenguajes)"
      ],
      "metadata": {
        "id": "f2Dh-lDVDYa6"
      },
      "execution_count": null,
      "outputs": []
    },
    {
      "cell_type": "markdown",
      "source": [
        "# Ejercicio 4\n",
        "## Usando range()\n",
        "Genera una lista con los números impares del 1 al 20 utilizando range().\n",
        "\n",
        "Luego, crea otra lista que contenga sólo los números de la primera lista que son divisibles por 3.\n"
      ],
      "metadata": {
        "id": "vSDePYdNDkzs"
      }
    },
    {
      "cell_type": "code",
      "source": [
        "# 1. Generar una lista con los números impares del 1 al 20 usando range()\n",
        "numeros_impares = list(range(1, 21, 2))\n",
        "print(\"Números impares del 1 al 20:\", numeros_impares)\n",
        "\n",
        "# 2. Crear otra lista con los números divisibles por 3 de la primera lista\n",
        "divisibles_por_3 = []\n",
        "\n",
        "for numero in numeros_impares:\n",
        "  if numero % 3 == 0:\n",
        "    divisibles_por_3.append(numero)\n",
        "\n",
        "print(\"Números impares divisibles por 3:\", divisibles_por_3)"
      ],
      "metadata": {
        "id": "7E2YYc7PD2IE"
      },
      "execution_count": null,
      "outputs": []
    }
  ]
}