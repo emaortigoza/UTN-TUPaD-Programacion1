{
  "nbformat": 4,
  "nbformat_minor": 5,
  "metadata": {
    "colab": {
      "provenance": []
    },
    "kernelspec": {
      "name": "python3",
      "display_name": "Python 3"
    },
    "language_info": {
      "name": "python",
      "pygments_lexer": "ipython3"
    }
  },
  "cells": [
    {
      "cell_type": "markdown",
      "metadata": {
        "id": "WvwEx3-nu7ll"
      },
      "source": [
        "# Tuplas en Python — Guía práctica (para Google Colab)\n",
        "Esta libreta acompaña un archivo de ejemplo y explica, paso a paso, las **funciones y usos más comunes** de las tuplas en Python.\n",
        "\n",
        "**Objetivos**\n",
        "\n",
        "- Entender qué es una tupla y cuándo conviene usarla.\n",
        "\n",
        "- Crear tuplas de varias formas (con paréntesis, *packing*, desde listas).\n",
        "\n",
        "- Acceder, recorrer, verificar pertenencia, *desempaquetar*.\n",
        "\n",
        "- Aplicar operaciones básicas (`len`, `count`, `index`), concatenar y repetir.\n",
        "\n",
        "- Ver tuplas de un solo elemento y el retorno múltiple en funciones.\n",
        "\n",
        "\n",
        "> Ejecutá cada celda (Shift + Enter) y leé los comentarios.\n"
      ],
      "id": "WvwEx3-nu7ll"
    },
    {
      "cell_type": "markdown",
      "metadata": {
        "id": "wht4gzSJu7lp"
      },
      "source": [
        "## 1) ¿Qué es una tupla?\n",
        "Una **tupla** es una **colección inmutable** y **ordenada** de elementos. \"Inmutable\" significa que una vez creada **no se puede modificar** (no se pueden reasignar, agregar ni borrar elementos).\n",
        "\n",
        "Se usan cuando:\n",
        "\n",
        "- Querés **proteger** datos contra cambios accidentales.\n",
        "\n",
        "- Necesitás **claves** o **elementos hashables** (por ejemplo, como claves en diccionarios, si sus contenidos también son hashables).\n"
      ],
      "id": "wht4gzSJu7lp"
    },
    {
      "cell_type": "markdown",
      "metadata": {
        "id": "RyHj-CDtu7lp"
      },
      "source": [
        "## 2) Creación de tuplas"
      ],
      "id": "RyHj-CDtu7lp"
    },
    {
      "cell_type": "code",
      "metadata": {
        "id": "9uEh5v59u7lq"
      },
      "execution_count": null,
      "outputs": [],
      "source": [
        "# Con paréntesis\n",
        "t = (1, 2, 3)\n",
        "print(\"Tupla con paréntesis:\", t)\n",
        "\n",
        "# 'Packing' (empaquetar) sin paréntesis: crea igualmente una tupla\n",
        "t = 1, 2, 3\n",
        "print(\"Packing sin paréntesis:\", t)\n",
        "\n",
        "# Convertir una lista a tupla con tuple()\n",
        "l = [2, 3, 4]\n",
        "t = tuple(l)\n",
        "print(\"Desde lista:\", t)\n"
      ],
      "id": "9uEh5v59u7lq"
    },
    {
      "cell_type": "markdown",
      "metadata": {
        "id": "uHEDzV3Gu7lr"
      },
      "source": [
        "## 3) Acceso a elementos y 'slicing' (rebanado)\n",
        "Las tuplas son indexadas desde 0. También podés tomar **rebanadas** (sub-tuplas)."
      ],
      "id": "uHEDzV3Gu7lr"
    },
    {
      "cell_type": "code",
      "metadata": {
        "id": "C3Eg1XAHu7lr"
      },
      "execution_count": null,
      "outputs": [],
      "source": [
        "t = (1, 2, 3, 4)\n",
        "\n",
        "print(\"Elemento en índice 2:\", t[2])\n",
        "print(\"Slice t[:2] (primeros dos):\", t[:2])\n",
        "\n",
        "# Inmutabilidad: intentar modificar genera TypeError\n",
        "t[0] = 7\n",
        "\n"
      ],
      "id": "C3Eg1XAHu7lr"
    },
    {
      "cell_type": "markdown",
      "metadata": {
        "id": "XR8KXZM2u7lr"
      },
      "source": [
        "## 4) Recorrer una tupla con `for`"
      ],
      "id": "XR8KXZM2u7lr"
    },
    {
      "cell_type": "code",
      "metadata": {
        "id": "cdQ_xO6Zu7ls"
      },
      "execution_count": null,
      "outputs": [],
      "source": [
        "t = (1, 2, 3, 4)\n",
        "\n",
        "for e in t:\n",
        "    print(\"Elemento:\", e)\n"
      ],
      "id": "cdQ_xO6Zu7ls"
    },
    {
      "cell_type": "markdown",
      "metadata": {
        "id": "a8MwYCelu7ls"
      },
      "source": [
        "## 5) Verificar pertenencia con `in`"
      ],
      "id": "a8MwYCelu7ls"
    },
    {
      "cell_type": "code",
      "metadata": {
        "id": "UW40elaRu7ls"
      },
      "execution_count": null,
      "outputs": [],
      "source": [
        "t = (1, 2, 3, 4)\n",
        "\n",
        "if 20 in t:\n",
        "    print(\"El elemento existe en la tupla\")\n",
        "else:\n",
        "    print(\"El elemento no existe en la tupla\")\n"
      ],
      "id": "UW40elaRu7ls"
    },
    {
      "cell_type": "markdown",
      "metadata": {
        "id": "l9PcReAYu7lt"
      },
      "source": [
        "## 6) Desempaquetado de tuplas\n",
        "Asignar cada elemento de la tupla a una variable en una sola línea."
      ],
      "id": "l9PcReAYu7lt"
    },
    {
      "cell_type": "code",
      "metadata": {
        "id": "72RqgnMwu7lt"
      },
      "execution_count": null,
      "outputs": [],
      "source": [
        "t = (1, 2, 3)\n",
        "a, b, c = t\n",
        "print(f\"Desempaquetado: a={a}, b={b}, c={c}\")\n"
      ],
      "id": "72RqgnMwu7lt"
    },
    {
      "cell_type": "markdown",
      "metadata": {
        "id": "s0SvloiQu7lt"
      },
      "source": [
        "### 6.1) Desempaquetado con comodín `*`\n",
        "El **comodín `*`** agrupa el resto de elementos en una lista."
      ],
      "id": "s0SvloiQu7lt"
    },
    {
      "cell_type": "code",
      "metadata": {
        "id": "6hmvWdBCu7lt"
      },
      "execution_count": null,
      "outputs": [],
      "source": [
        "t = (1, 2, 3, 4)\n",
        "a, *t2 = t\n",
        "print(f\"a = {a}, t2 = {t2}  (nota: t2 es una lista)\")\n"
      ],
      "id": "6hmvWdBCu7lt"
    },
    {
      "cell_type": "markdown",
      "metadata": {
        "id": "WtCQeyd6u7lt"
      },
      "source": [
        "## 7) Operaciones básicas: `len`, `count`, `index`"
      ],
      "id": "WtCQeyd6u7lt"
    },
    {
      "cell_type": "code",
      "metadata": {
        "colab": {
          "base_uri": "https://localhost:8080/"
        },
        "id": "Tx6-MC9Su7lu",
        "outputId": "d908ea00-bd82-4fa2-debd-73a4349bc5dc"
      },
      "execution_count": null,
      "outputs": [
        {
          "output_type": "stream",
          "name": "stdout",
          "text": [
            "Cantidad de elementos (len): 7\n",
            "Veces que aparece 2 (count): 4\n",
            "Índice de la primera aparición de 3 (index): 4\n"
          ]
        }
      ],
      "source": [
        "t = (1, 2, 2, 4, 3, 2, 2)\n",
        "\n",
        "print(\"Cantidad de elementos (len):\", len(t))\n",
        "print(\"Veces que aparece 2 (count):\", t.count(2))\n",
        "print(\"Índice de la primera aparición de 3 (index):\", t.index(3))\n",
        "\n",
        "# Si buscás un elemento que no está con index, lanza ValueError"
      ],
      "id": "Tx6-MC9Su7lu"
    },
    {
      "cell_type": "markdown",
      "metadata": {
        "id": "84FG7x_8u7lu"
      },
      "source": [
        "## 8) Concatenación y repetición"
      ],
      "id": "84FG7x_8u7lu"
    },
    {
      "cell_type": "code",
      "metadata": {
        "id": "RCriMt__u7lu"
      },
      "execution_count": null,
      "outputs": [],
      "source": [
        "# Concatenar tuplas con +\n",
        "t = (1, 2, 3) + (4, 5, 6)\n",
        "print(\"Concatenación:\", t)\n",
        "\n",
        "# Repetir tuplas con *\n",
        "t = (1, 2) * 4\n",
        "print(\"Repetición:\", t)\n"
      ],
      "id": "RCriMt__u7lu"
    },
    {
      "cell_type": "markdown",
      "metadata": {
        "id": "QA2pm5teu7lu"
      },
      "source": [
        "## 9) Tuplas de un solo elemento\n",
        "**Atención a la coma**: `(1,)` es una tupla, mientras que `(1)` es solo el número 1 entre paréntesis."
      ],
      "id": "QA2pm5teu7lu"
    },
    {
      "cell_type": "code",
      "metadata": {
        "id": "uH--7iV5u7lu"
      },
      "execution_count": null,
      "outputs": [],
      "source": [
        "t = (1,)\n",
        "print(\"Tupla de un solo elemento:\", t, \"-> tipo:\", type(t))\n",
        "\n",
        "no_tupla = (1)\n",
        "print(\"No es tupla:\", no_tupla, \"-> tipo:\", type(no_tupla))\n"
      ],
      "id": "uH--7iV5u7lu"
    },
    {
      "cell_type": "markdown",
      "metadata": {
        "id": "696i3Zatu7lu"
      },
      "source": [
        "## 10) Funciones que retornan múltiples valores\n",
        "Una función puede **retornar varios valores**; en realidad retorna **una tupla**, que luego podés desempaquetar."
      ],
      "id": "696i3Zatu7lu"
    },
    {
      "cell_type": "code",
      "metadata": {
        "id": "ejw7H05Vu7lu"
      },
      "execution_count": null,
      "outputs": [],
      "source": [
        "def func():\n",
        "    # Retorna una tupla\n",
        "    return 1, 2, 3\n",
        "\n",
        "a, b, c = func()\n",
        "print(f\"Retorno múltiple: a={a}, b={b}, c={c}\")\n"
      ],
      "id": "ejw7H05Vu7lu"
    },
    {
      "cell_type": "markdown",
      "metadata": {
        "id": "jiZJNGxRu7lv"
      },
      "source": [
        "## 11) ¿Cuándo usar tuplas vs. listas?\n",
        "- **Tupla**: datos que **no deben cambiar** (p. ej., coordenadas fijas, configuraciones constantes, etiquetas). Mejor para **inmutabilidad** y, si es necesario, para **claves** en diccionarios.\n",
        "- **Lista**: colección **mutable**; cuando vas a **agregar/quitar/modificar** elementos a lo largo del programa."
      ],
      "id": "jiZJNGxRu7lv"
    },
    {
      "cell_type": "markdown",
      "metadata": {
        "id": "kuYnHkEFu7lv"
      },
      "source": [
        "## 12) Mini‑ejercicios\n",
        "1. Usá `in` para verificar si el número `5` está en la tupla `(1, 3, 5, 7, 9)`.\n",
        "2. Dada la tupla `t = ('a', 'b', 'c', 'd', 'e')`, imprimí el *slice* que contiene `('b', 'c', 'd')`.\n",
        "3. Escribí una función `min_max(t)` que reciba una tupla de números y **retorne** `(mínimo, máximo)`.\n",
        "4. Hacé *packing* de cuatro valores cualesquiera, desempaquetalos usando `a, *medio, z = ...` y mostrálos.\n"
      ],
      "id": "kuYnHkEFu7lv"
    }
  ]
}