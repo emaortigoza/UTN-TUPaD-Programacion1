{
  "nbformat": 4,
  "nbformat_minor": 5,
  "metadata": {
    "colab": {
      "provenance": []
    },
    "kernelspec": {
      "name": "python3",
      "display_name": "Python 3"
    },
    "language_info": {
      "name": "python",
      "pygments_lexer": "ipython3"
    }
  },
  "cells": [
    {
      "cell_type": "markdown",
      "metadata": {
        "id": "0Y0zO9TIZ8fJ"
      },
      "source": [
        "# Conjuntos (*sets*) en Python — Guía práctica (para Google Colab)\n",
        "Esta libreta acompaña un archivo de ejemplo y explica, paso a paso, las **funciones y usos más comunes** de los conjuntos en Python.\n",
        "\n",
        "**Objetivos**\n",
        "\n",
        "- Entender qué es un conjunto y cuándo conviene usarlo.\n",
        "\n",
        "- Crear conjuntos (literales con `{}`, `set()`, conversión desde otras colecciones).\n",
        "\n",
        "- Agregar, descartar/eliminar, vaciar y medir longitud.\n",
        "\n",
        "- Recorrer, verificar pertenencia.\n",
        "\n",
        "- Usar operaciones de teoría de conjuntos: **unión**, **intersección**, **diferencia** y **diferencia simétrica**.\n",
        "\n",
        "- Trabajar con **subconjuntos** y **superconjuntos**.\n",
        "\n",
        "\n",
        "\n",
        "> Ejecutá cada celda (Shift + Enter) y leé los comentarios.\n"
      ],
      "id": "0Y0zO9TIZ8fJ"
    },
    {
      "cell_type": "markdown",
      "metadata": {
        "id": "D_N5hDyxZ8fL"
      },
      "source": [
        "## 1) ¿Qué es un conjunto?\n",
        "Un **conjunto** (*set*) es una colección **no ordenada**, **mutable** y de **elementos únicos** (sin duplicados). Es ideal para:\n",
        "\n",
        "- Eliminar duplicados de una secuencia.\n",
        "\n",
        "- Pruebas de **pertenencia** (`in`) muy rápidas.\n",
        "\n",
        "- Operaciones de teoría de conjuntos.\n",
        "\n",
        "> Como no tienen orden, **no soportan indexación ni slicing** como las listas o tuplas.\n"
      ],
      "id": "D_N5hDyxZ8fL"
    },
    {
      "cell_type": "markdown",
      "metadata": {
        "id": "xiOWPkUnZ8fM"
      },
      "source": [
        "## 2) Creación de conjuntos"
      ],
      "id": "xiOWPkUnZ8fM"
    },
    {
      "cell_type": "code",
      "metadata": {
        "id": "jsyvc33HZ8fN"
      },
      "execution_count": null,
      "outputs": [],
      "source": [
        "# Literal con llaves\n",
        "c = {1, 2, 3}\n",
        "print(\"Conjunto literal:\", c)\n",
        "\n",
        "# Los duplicados se eliminan automáticamente\n",
        "c = {1, 2, 3, 1, 2, 3, 4}\n",
        "print(\"Sin duplicados:\", c)\n",
        "\n",
        "# Conjunto vacío: ¡Ojo! {} crea un diccionario; para conjunto vacío usá set()\n",
        "vacio = set()\n",
        "print(\"Conjunto vacío:\", vacio, \"tipo:\", type(vacio))\n",
        "\n",
        "# Convertir una lista con duplicados en conjunto\n",
        "l = [1, 2, 3, 4, 4, 1]\n",
        "c = set(l)\n",
        "print(\"Desde lista (dedup):\", c)\n"
      ],
      "id": "jsyvc33HZ8fN"
    },
    {
      "cell_type": "markdown",
      "metadata": {
        "id": "vyagpr76Z8fO"
      },
      "source": [
        "## 3) Agregar, descartar/eliminar, limpiar y longitud"
      ],
      "id": "vyagpr76Z8fO"
    },
    {
      "cell_type": "code",
      "metadata": {
        "id": "8X1wyeDsZ8fP"
      },
      "execution_count": null,
      "outputs": [],
      "source": [
        "c = set()\n",
        "\n",
        "# Agregar elementos (no falla si el elemento ya estaba; simplemente no lo duplica)\n",
        "c.add(\"Pedro\")\n",
        "c.add(\"Juan\")\n",
        "c.add(\"Roberto\")\n",
        "c.add(\"Pedro\")\n",
        "print(\"Luego de add:\", c)\n",
        "\n",
        "# discard(x) NO lanza error si x no está; remove(x) SÍ lanza KeyError si no está\n",
        "c.discard(\"Pedro\")\n",
        "print(\"Luego de discard('Pedro'):\", c)\n",
        "\n",
        "print(\"Cantidad de elementos (len):\", len(c))\n",
        "\n",
        "# Limpiar todo\n",
        "c.clear()\n",
        "print(\"Luego de clear():\", c)\n"
      ],
      "id": "8X1wyeDsZ8fP"
    },
    {
      "cell_type": "markdown",
      "metadata": {
        "id": "KQnvLLN1Z8fQ"
      },
      "source": [
        "## 4) Recorrer y pertenencia (`in`)"
      ],
      "id": "KQnvLLN1Z8fQ"
    },
    {
      "cell_type": "code",
      "metadata": {
        "id": "sOrpEZ24Z8fR"
      },
      "execution_count": null,
      "outputs": [],
      "source": [
        "frutas = {\"manzana\", \"banana\", \"pera\", \"banana\"}  # 'banana' aparece una sola vez\n",
        "\n",
        "# Recorrido (el orden es arbitrario)\n",
        "for f in frutas:\n",
        "    print(\"Fruta:\", f)\n",
        "\n",
        "print(\"¿'manzana' está en el conjunto?\", \"manzana\" in frutas)\n",
        "print(\"¿'manzanas' está en el conjunto?\", \"manzanas\" in frutas)  # distinto de 'manzana'\n"
      ],
      "id": "sOrpEZ24Z8fR"
    },
    {
      "cell_type": "markdown",
      "metadata": {
        "id": "vrxl4PQKZ8fR"
      },
      "source": [
        "## 5) Operaciones de teoría de conjuntos\n",
        "Podés usar **operadores** o **métodos** equivalentes."
      ],
      "id": "vrxl4PQKZ8fR"
    },
    {
      "cell_type": "code",
      "metadata": {
        "id": "PlKUsjrXZ8fS"
      },
      "execution_count": null,
      "outputs": [],
      "source": [
        "a = {1, 2, 3, 4}\n",
        "b = {3, 4, 5, 6}\n",
        "\n",
        "print(\"Unión a | b:\", a | b)            # union()\n",
        "print(\"Intersección a & b:\", a & b)     # intersection()\n",
        "print(\"Diferencia a - b:\", a - b)       # difference()\n",
        "print(\"Dif. simétrica a ^ b:\", a ^ b)   # symmetric_difference()\n"
      ],
      "id": "PlKUsjrXZ8fS"
    },
    {
      "cell_type": "markdown",
      "metadata": {
        "id": "H7hJUiEPZ8fT"
      },
      "source": [
        "## 6) Subconjuntos y superconjuntos"
      ],
      "id": "H7hJUiEPZ8fT"
    },
    {
      "cell_type": "code",
      "metadata": {
        "id": "WBU0qLJtZ8fT"
      },
      "execution_count": null,
      "outputs": [],
      "source": [
        "a = {1, 2, 3}\n",
        "b = {1, 2, 3, 4}\n",
        "\n",
        "print(\"a ⊆ b ?\", a.issubset(b))     # True\n",
        "print(\"b ⊇ a ?\", b.issuperset(a))   # True\n",
        "\n",
        "# Atajos con operadores:\n",
        "print(\"a <= b ?\", a <= b)            # subset (incluyente)\n",
        "print(\"b >= a ?\", b >= a)            # superset (incluyente)\n"
      ],
      "id": "WBU0qLJtZ8fT"
    },
    {
      "cell_type": "markdown",
      "metadata": {
        "id": "-3tSsfE1Z8fU"
      },
      "source": [
        "## 7) Mini‑ejercicios\n",
        "1. Convertí `['a', 'b', 'a', 'c', 'b']` en un set y mostralo.\n",
        "2. Creá dos sets `A` y `B` y calculá `A ∩ B`, `A ∪ B`, `A − B`, `A △ B`.\n",
        "3. Dado `texto = 'hola mundo hola'`, generá un set con las **palabras únicas**.\n",
        "4. Probá `remove` vs `discard` con un elemento **inexistente** y observá la diferencia.\n"
      ],
      "id": "-3tSsfE1Z8fU"
    }
  ]
}