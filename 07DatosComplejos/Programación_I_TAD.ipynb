{
  "nbformat": 4,
  "nbformat_minor": 0,
  "metadata": {
    "colab": {
      "provenance": []
    },
    "kernelspec": {
      "name": "python3",
      "display_name": "Python 3"
    },
    "language_info": {
      "name": "python"
    }
  },
  "cells": [
    {
      "cell_type": "markdown",
      "source": [
        "# 🏗️ Tipos de Datos Abstractos (TDA) en Python - ¡Explora su Poder! 🚀\n",
        "\n",
        "## 📌 Introducción\n",
        "Los **Tipos de Datos Abstractos (TDA)** son estructuras de datos que nos permiten organizar y gestionar información de manera eficiente. 📦 Lo interesante de los TDA es que **definen qué operaciones se pueden hacer**, pero no cómo están implementados internamente. 😃\n",
        "\n",
        "💡 **Ejemplo en la vida real:** Un cajero automático 🎰. Sabemos que podemos retirar dinero, consultar el saldo o depositar efectivo, pero no necesitamos conocer los detalles internos de su funcionamiento."
      ],
      "metadata": {
        "id": "RxHf58rLSvP3"
      }
    },
    {
      "cell_type": "markdown",
      "source": [
        "## 🔹 Características de los TDA\n",
        "* **Abstracción**: Solo importa cómo usamos el TDA, no su implementación interna. 🤯\n",
        "* **Encapsulación**: Protegen los datos internos, evitando que sean modificados directamente. 🔒\n",
        "* **Independencia**: Podemos cambiar la implementación sin afectar a quienes lo usan. 🔄"
      ],
      "metadata": {
        "id": "NhSCJ8cUSzPc"
      }
    },
    {
      "cell_type": "markdown",
      "source": [
        "## 🔥 Ejemplos Comunes de TDA\n",
        "* 1️⃣ **Lista**: Colección ordenada de elementos 📋.\n",
        "* 2️⃣ **Pila (Stack)**: Sigue el principio **LIFO** (*Last In, First Out*), como una pila de platos 🍽️.\n",
        "* 3️⃣ **Cola (Queue)**: Sigue el principio **FIFO** (*First In, First Out*), como una fila de supermercado 🏪.\n",
        "* 4️⃣ **Diccionario (Mapa o Hash Table)**: Conjunto de pares clave-valor 📖."
      ],
      "metadata": {
        "id": "vWXeJDowS5dM"
      }
    },
    {
      "cell_type": "markdown",
      "source": [
        "## 🛠️ Implementación en Python\n",
        "\n",
        "### ✨ Lista (List)\n"
      ],
      "metadata": {
        "id": "fBRaqlz5S81s"
      }
    },
    {
      "cell_type": "code",
      "source": [
        "# 📌 Creación y uso de una lista en Python\n",
        "mi_lista = [\"🍎\", \"🍌\", \"🍇\"]\n",
        "mi_lista.append(\"🥑\")  # Agregar un elemento\n",
        "print(mi_lista)  # Salida: ['🍎', '🍌', '🍇', '🥑']\n"
      ],
      "metadata": {
        "id": "nOe1jSp9TCnW",
        "outputId": "ec19de88-0700-4efb-9dee-5e6abe799957",
        "colab": {
          "base_uri": "https://localhost:8080/"
        }
      },
      "execution_count": null,
      "outputs": [
        {
          "output_type": "stream",
          "name": "stdout",
          "text": [
            "['🍎', '🍌', '🍇', '🥑']\n"
          ]
        }
      ]
    },
    {
      "cell_type": "markdown",
      "source": [
        "### ✨ Diccionario (Hash Map)"
      ],
      "metadata": {
        "id": "tvxiJyEvTQp9"
      }
    },
    {
      "cell_type": "code",
      "source": [
        "# 📌 Creación y uso de un diccionario en Python\n",
        "mi_diccionario = {\"nombre\": \"Alice\", \"edad\": 25, \"profesion\": \"Ingeniera\"}\n",
        "print(mi_diccionario[\"nombre\"])  # Salida: Alice\n"
      ],
      "metadata": {
        "id": "zfKmH4lNTTUM"
      },
      "execution_count": null,
      "outputs": []
    },
    {
      "cell_type": "markdown",
      "source": [
        "## 🎯 Aplicaciones de los TDA\n",
        "* ✅ **Gestión de tareas en sistemas operativos** 🖥️\n",
        "* ✅ **Estructuras de bases de datos** 💾\n",
        "* ✅ **Procesamiento de datos en inteligencia artificial** 🤖\n",
        "* ✅ **Optimización de algoritmos en videojuegos** 🎮"
      ],
      "metadata": {
        "id": "Ov2ZVG7mTV0t"
      }
    },
    {
      "cell_type": "markdown",
      "source": [
        "---\n",
        "## 🏆 Conclusión\n",
        "Los **Tipos de Datos Abstractos** nos ayudan a organizar la información y optimizar su manipulación. Python nos ofrece herramientas poderosas para implementarlos de manera sencilla. 🔥\n",
        "\n",
        "🎉 Ahora ya sabes cómo funcionan los TDA y cómo aplicarlos en Python. 🚀\n",
        "\n",
        "Si quieres seguir aprendiendo, experimenta con estos códigos y prueba nuevas funcionalidades. ¡Diviértete programando! 😃🔥\n",
        "---"
      ],
      "metadata": {
        "id": "LmKx8uq-TY40"
      }
    }
  ]
}