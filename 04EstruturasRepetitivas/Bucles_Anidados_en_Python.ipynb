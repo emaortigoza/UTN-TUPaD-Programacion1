{
  "nbformat": 4,
  "nbformat_minor": 0,
  "metadata": {
    "colab": {
      "provenance": []
    },
    "kernelspec": {
      "name": "python3",
      "display_name": "Python 3"
    },
    "language_info": {
      "name": "python"
    }
  },
  "cells": [
    {
      "cell_type": "markdown",
      "source": [
        "# Bucles Anidados en Python\n",
        "Aprendé a utilizar bucles `for` y `while` combinados (uno dentro de otro) para resolver problemas que requieren múltiples niveles de repetición. Exploraremos patrones, estructuras numéricas y simulaciones simples para comprender su funcionamiento.\n"
      ],
      "metadata": {
        "id": "9dahJBP-Jdxh"
      }
    },
    {
      "cell_type": "markdown",
      "source": [
        "## Ejercicio 1 – Cuadrado de asteriscos\n",
        "\n",
        "### 🎯 Consigna\n",
        "\n",
        "Pedí al usuario un número entero y dibujá un cuadrado de asteriscos (\\*) de ese tamaño.\n",
        "\n",
        "###  🔢 Ejemplo (si el usuario ingresa 4)\n",
        "\n",
        "```\n",
        "* * * *\n",
        "* * * *\n",
        "* * * *\n",
        "* * * *\n",
        "```\n",
        "\n",
        "---\n"
      ],
      "metadata": {
        "id": "YB9IddN-2ftk"
      }
    },
    {
      "cell_type": "code",
      "source": [
        "n = int(input(\"Ingrese el tamaño del cuadrado: \"))\n",
        "for i in range(n):\n",
        "    for j in range(n):\n",
        "        print(\"*\", end=\" \")\n",
        "    print()\n"
      ],
      "metadata": {
        "id": "OiPQOjj02h1E"
      },
      "execution_count": null,
      "outputs": []
    },
    {
      "cell_type": "markdown",
      "source": [
        "## Ejercicio 2 – Triángulo numérico ascendente\n",
        "\n",
        "### 🎯 Consigna\n",
        "\n",
        "Pedí al usuario un número entero positivo. Mostrá un triángulo numérico como el siguiente:\n",
        "\n",
        "### 🔢 Ejemplo (si el usuario ingresa 5)\n",
        "\n",
        "```\n",
        "1\n",
        "1 2\n",
        "1 2 3\n",
        "1 2 3 4\n",
        "1 2 3 4 5\n",
        "```\n",
        "\n",
        "---\n"
      ],
      "metadata": {
        "id": "7ep5Q2Vw5ESi"
      }
    },
    {
      "cell_type": "code",
      "source": [
        "n = int(input(\"Ingrese un número: \"))\n",
        "for i in range(1, n + 1):\n",
        "    for j in range(1, i + 1):\n",
        "        print(j, end=\" \")\n",
        "    print()\n"
      ],
      "metadata": {
        "id": "rNU7W-Sg5PRr"
      },
      "execution_count": null,
      "outputs": []
    },
    {
      "cell_type": "markdown",
      "source": [
        "## Ejercicio 3 – Tablas de multiplicar del 1 al 10\n",
        "\n",
        "### 🎯 Consigna\n",
        "\n",
        "Mostrá en pantalla las tablas de multiplicar del 1 al 10, una debajo de la otra.\n",
        "\n",
        "### 🔢 Ejemplo esperado\n",
        "\n",
        "```\n",
        "1 x 1 = 1\n",
        "1 x 2 = 2\n",
        "...\n",
        "10 x 10 = 100\n",
        "```\n",
        "\n",
        "---"
      ],
      "metadata": {
        "id": "JFdkgViK2IIt"
      }
    },
    {
      "cell_type": "code",
      "execution_count": null,
      "metadata": {
        "id": "B_5VWomc0UTU"
      },
      "outputs": [],
      "source": [
        "for i in range(1, 11):\n",
        "    for j in range(1, 11):\n",
        "        print(f\"{i} x {j} = {i * j}\")\n",
        "    print()\n"
      ]
    },
    {
      "cell_type": "markdown",
      "source": [
        "## Ejercicio 4 – Cuadrado con bordes 1 e interior 0\n",
        "\n",
        "### 🎯 Consigna\n",
        "\n",
        "Pedí al usuario un número `n`. Mostrá un cuadrado `n x n` donde el borde esté formado por el número 1 y el interior por el número 0.\n",
        "\n",
        "### 🔢 Ejemplo (si `n = 4`)\n",
        "\n",
        "```\n",
        "1 1 1 1\n",
        "1 0 0 1\n",
        "1 0 0 1\n",
        "1 1 1 1\n",
        "```\n",
        "---"
      ],
      "metadata": {
        "id": "UJ9YHeD-IWKn"
      }
    },
    {
      "cell_type": "code",
      "source": [
        "n = int(input(\"Ingrese el tamaño del cuadrado: \"))\n",
        "\n",
        "for i in range(n):\n",
        "    for j in range(n):\n",
        "        if i == 0 or i == n - 1 or j == 0 or j == n - 1:\n",
        "            print(1, end=\" \")\n",
        "        else:\n",
        "            print(0, end=\" \")\n",
        "    print()\n"
      ],
      "metadata": {
        "id": "MrGfqSMUIlxR"
      },
      "execution_count": null,
      "outputs": []
    },
    {
      "cell_type": "markdown",
      "source": [
        "## Ejercicio 5 – Combinaciones de coordenadas\n",
        "\n",
        "### 🎯 Consigna\n",
        "\n",
        "Mostrá todas las posibles combinaciones de coordenadas (x, y, z) donde cada valor puede ir de 0 a 2 inclusive. Mostralas en el formato (x, y, z).\n",
        "\n",
        "### 🔢 Ejemplo esperado\n",
        "\n",
        "```\n",
        "(0, 0, 0)\n",
        "(0, 0, 1)\n",
        "...\n",
        "(2, 2, 2)\n",
        "```\n",
        "---"
      ],
      "metadata": {
        "id": "cryHmX_I67pc"
      }
    },
    {
      "cell_type": "code",
      "source": [
        "for x in range(3):\n",
        "    for y in range(3):\n",
        "        for z in range(3):\n",
        "            print(f\"({x}, {y}, {z})\")\n"
      ],
      "metadata": {
        "id": "GW7GPTWz7AFU"
      },
      "execution_count": null,
      "outputs": []
    },
    {
      "cell_type": "markdown",
      "source": [
        "## Ejercicio 6 – Combinaciones con suma 10\n",
        "\n",
        "### 🎯 Consigna\n",
        "\n",
        "Mostrá todas las combinaciones de tres números entre 1 y 9 cuya suma sea igual a 10.\n",
        "\n",
        "---"
      ],
      "metadata": {
        "id": "yMDStMTIEh9-"
      }
    },
    {
      "cell_type": "code",
      "source": [
        "for i in range(1, 10):\n",
        "    for j in range(1, 10):\n",
        "        for k in range(1, 10):\n",
        "            if i + j + k == 10:\n",
        "                print(f\"{i} + {j} + {k} = 10\")\n"
      ],
      "metadata": {
        "id": "g5Rk7mGbEnme"
      },
      "execution_count": null,
      "outputs": []
    },
    {
      "cell_type": "markdown",
      "source": [
        "## Ejercicio 7 – Contador regresivo 3 3 3 hasta 0 0 0\n",
        "\n",
        "### 🎯 Consigna\n",
        "\n",
        "Creá un contador regresivo desde 3 3 3 hasta 0 0 0.\n",
        "\n",
        "### 🔢 Ejemplo esperado\n",
        "\n",
        "```\n",
        "3 3 3\n",
        "3 3 2\n",
        "...\n",
        "0 0 0\n",
        "```\n",
        "---"
      ],
      "metadata": {
        "id": "NlS42lh4H0hC"
      }
    },
    {
      "cell_type": "code",
      "source": [
        "for i in range(3, -1, -1):\n",
        "    for j in range(3, -1, -1):\n",
        "        for k in range(3, -1, -1):\n",
        "            print(f\"{i} {j} {k}\")\n"
      ],
      "metadata": {
        "id": "3Hx0zjekE5wY"
      },
      "execution_count": null,
      "outputs": []
    },
    {
      "cell_type": "markdown",
      "source": [
        "## Ejercicio 8 – Simulación de reloj digital\n",
        "\n",
        "### 🎯 Consigna\n",
        "\n",
        "Simulá el funcionamiento de un reloj digital desde las 00:00:00 hasta las 00:59:59, mostrando cada segundo.\n",
        "\n",
        "### 🔢 Ejemplo esperado\n",
        "\n",
        "```\n",
        "00:00:00\n",
        "00:00:01\n",
        "...\n",
        "00:59:59\n",
        "```\n",
        "\n",
        "---\n"
      ],
      "metadata": {
        "id": "ju92WOz94Cqb"
      }
    },
    {
      "cell_type": "code",
      "source": [
        "import time\n",
        "\n",
        "for hora in range(1):\n",
        "    for minuto in range(60):\n",
        "        for segundo in range(60):\n",
        "            print(f\"{hora:02}:{minuto:02}:{segundo:02}\")\n",
        "            time.sleep(1)\n"
      ],
      "metadata": {
        "id": "Llh0F4dx4Ur8"
      },
      "execution_count": null,
      "outputs": []
    },
    {
      "cell_type": "markdown",
      "source": [
        "## Ejercicio 9 – Lanzamiento de dado con repetición\n",
        "\n",
        "### 🎯 Consigna\n",
        "\n",
        "Simulá el lanzamiento de un dado hasta sacar un 6. Luego preguntá si quiere volver a jugar (s/n); si responde \"s\", repetí todo el proceso.\n",
        "\n",
        "---\n"
      ],
      "metadata": {
        "id": "pjZthnn2DFgc"
      }
    },
    {
      "cell_type": "code",
      "source": [
        "import random\n",
        "\n",
        "continuar = input(\"¿Querés jugar a sacar un 6? (s/n): \").lower()\n",
        "while continuar == \"s\":\n",
        "    print(\"Lanzando hasta obtener un 6…\")\n",
        "    lanzamiento = 0\n",
        "    intentos = 0\n",
        "    while lanzamiento != 6:\n",
        "        lanzamiento = random.randint(1, 6)\n",
        "        intentos += 1\n",
        "        print(lanzamiento, end=\" \")\n",
        "    print(f\"\\n¡Salió 6 tras {intentos} lanzamientos!\\n\")\n",
        "    continuar = input(\"¿Querés volver a jugar? (s/n): \").lower()\n",
        "print(\"¡Gracias por jugar!\")\n"
      ],
      "metadata": {
        "id": "SO0zDx9CDIkE"
      },
      "execution_count": null,
      "outputs": []
    },
    {
      "cell_type": "markdown",
      "source": [
        "## Ejercicio 10 – Validación de fila y columna\n",
        "\n",
        "### 🎯 Consigna\n",
        "\n",
        "Pedí al usuario una fila (1 a 3) y una columna (1 a 4). Si cualquiera de las dos está fuera de rango, volver a pedir solo ese valor. Repetí hasta que ambas sean válidas.\n",
        "\n",
        "---\n",
        "\n"
      ],
      "metadata": {
        "id": "htWFJJG1DXKF"
      }
    },
    {
      "cell_type": "code",
      "source": [
        "coordenada_valida = False\n",
        "\n",
        "while not coordenada_valida:\n",
        "    # Validar fila\n",
        "    fila = int(input(\"Ingresa fila (1–3): \"))\n",
        "    while fila < 1 or fila > 3:\n",
        "        fila = int(input(\"  Fila inválida. Ingresá fila (1–3): \"))\n",
        "\n",
        "    # Validar columna\n",
        "    columna = int(input(\"Ingresa columna (1–4): \"))\n",
        "    while columna < 1 or columna > 4:\n",
        "        columna = int(input(\"  Columna inválida. Ingresá columna (1–4): \"))\n",
        "\n",
        "    # Si llegamos acá, ambas entradas son correctas\n",
        "    coordenada_valida = True\n",
        "\n",
        "print(f\"Coordenada válida: ({fila}, {columna})\")\n",
        "\n"
      ],
      "metadata": {
        "id": "-CAeKi3JDa2N"
      },
      "execution_count": null,
      "outputs": []
    }
  ]
}